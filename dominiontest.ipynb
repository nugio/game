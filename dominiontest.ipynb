{
  "nbformat": 4,
  "nbformat_minor": 0,
  "metadata": {
    "colab": {
      "provenance": [],
      "collapsed_sections": [],
      "authorship_tag": "ABX9TyNcoVUn6H4AsT2LrZ7j2QTt",
      "include_colab_link": true
    },
    "kernelspec": {
      "name": "python3",
      "display_name": "Python 3"
    },
    "language_info": {
      "name": "python"
    }
  },
  "cells": [
    {
      "cell_type": "markdown",
      "metadata": {
        "id": "view-in-github",
        "colab_type": "text"
      },
      "source": [
        "<a href=\"https://colab.research.google.com/github/nugio/game/blob/master/dominiontest.ipynb\" target=\"_parent\"><img src=\"https://colab.research.google.com/assets/colab-badge.svg\" alt=\"Open In Colab\"/></a>"
      ]
    },
    {
      "cell_type": "code",
      "execution_count": null,
      "metadata": {
        "colab": {
          "base_uri": "https://localhost:8080/"
        },
        "id": "p4AN_707Vs9f",
        "outputId": "57418b4c-84ec-41c0-c9be-58bd70cec25e"
      },
      "outputs": [
        {
          "output_type": "stream",
          "name": "stdout",
          "text": [
            "Mounted at /content/drive\n"
          ]
        }
      ],
      "source": [
        "from google.colab import drive\n",
        "drive.mount('/content/drive')"
      ]
    },
    {
      "cell_type": "code",
      "source": [
        "import pandas as pd \n",
        "import random\n",
        "data= pd.read_csv('drive/My Drive/Colab Notebooks/pytest.csv' , encoding=\"shift-jis\")\n",
        "data.head()\n",
        "\n",
        "class Card:\n",
        "  def __init__(self, index,exset,name, cost,action2,attack):\n",
        "    self.index =index\n",
        "    self.exset = exset\n",
        "    self.name = name\n",
        "    self.cost = cost\n",
        "    self.action2 = action2\n",
        "    self.attack = attack\n",
        "\n",
        "MotherSupply = []\n",
        "selectSetList = ['海辺','基本','異郷','陰謀']#抽選対象の拡張セット\n",
        "attackNeed = 3#アタックの最低枚数\n",
        "action2Need = 1#+2アクションの最低枚数\n",
        "LowCostsNeed = 3#コスト3以下の最低枚数\n",
        "HighCostsNeed = 3#コスト5以上の最低枚数\n",
        "EachSetNeed = [0,0,0,5]#各セットの最低枚数]\n",
        "SetDict = {'基本':0,'陰謀':1,'海辺':2,'異郷':3}\n",
        "\n",
        "for data in data.itertuples():\n",
        "    if data[1] in selectSetList:\n",
        "      MotherSupply.append(Card(data[0],data[1],data[2],data[3],data[4],data[5]))\n",
        "\n",
        "dataSize = len(MotherSupply)\n",
        "choiseSize = 10#サプライ生成枚数\n",
        "print('総データ：'+ str(dataSize) + '  選択数: ' + str(choiseSize))\n",
        "\n",
        "finish = False\n",
        "\n",
        "while finish == False:\n",
        "  Supply =[]\n",
        "  randomizer = random.sample(range(dataSize), choiseSize)\n",
        "  for i in randomizer:\n",
        "    Supply.append(MotherSupply[i])\n",
        "\n",
        "  finish = False  \n",
        "  attackCount = 0\n",
        "  action2Count = 0\n",
        "  LowCostsCount = 0\n",
        "  HighCostsCount = 0\n",
        "  EachSetCount = [0,0,0,0]\n",
        "\n",
        "  for i in Supply:\n",
        "    if i.attack==1:\n",
        "      attackCount += 1\n",
        "    if i.action2==1:\n",
        "      action2Count += 1\n",
        "    if i.cost<=3:\n",
        "      LowCostsCount+= 1\n",
        "    if i.cost>=5:\n",
        "      HighCostsCount+= 1\n",
        "    EachSetCount[SetDict[i.exset]]+=1\n",
        "  \n",
        "  if attackCount>=attackNeed:\n",
        "    if action2Count>=action2Need:\n",
        "      if LowCostsCount>=LowCostsNeed:\n",
        "        if HighCostsCount>=HighCostsNeed:\n",
        "            for i in range(4):\n",
        "              if EachSetCount[i]<EachSetNeed[i]:\n",
        "                break\n",
        "              if i == 3:\n",
        "                finish = True\n",
        "\n",
        "showSupply=[[],[],[],[]]\n",
        "\n",
        "for i in Supply:\n",
        "  for j in range(4):\n",
        "    if SetDict[i.exset]==j:\n",
        "      showSupply[j].append(i.name + '(' + str(i.cost) + ')' )\n",
        "\n",
        "for i in range(4):\n",
        "  CardString =''\n",
        "  for j in showSupply[i]:\n",
        "    CardString += '   ' + j\n",
        "  print(str(list(SetDict)[i]) + ' :' + CardString)\n",
        "\n"
      ],
      "metadata": {
        "colab": {
          "base_uri": "https://localhost:8080/"
        },
        "id": "dT6CUgArahUU",
        "outputId": "bd946286-275d-471b-9e49-796d5fec876f"
      },
      "execution_count": null,
      "outputs": [
        {
          "output_type": "stream",
          "name": "stdout",
          "text": [
            "総データ：105  選択数: 10\n",
            "基本 :   工房(3)\n",
            "陰謀 :   寵臣(5)\n",
            "海辺 :   船着場(5)   海の魔女(5)   アストロラーベ(3)\n",
            "異郷 :   交易人(4)   国境の村(6)   遊牧民(4)   坑道(3)   辺境伯(5)\n"
          ]
        }
      ]
    },
    {
      "cell_type": "code",
      "source": [
        "#!/usr/bin/python3\n",
        "# -*- coding: utf8 -*-\n",
        "import tkinter as tk\n",
        "\n",
        "def pushed(b):\n",
        " b[\"text\"] = \"押されたよ\"\n",
        "\n",
        "#rootウィンドウを作成\n",
        "root = tk.Tk()\n",
        "#rootウィンドウのタイトルを変える\n",
        "root.title(\"Tkinterテスト\")\n",
        "#rootウィンドウの大きさを320x240に\n",
        "root.geometry(\"320x240\")\n",
        "\n",
        "#Label部品を作る\n",
        "label = tk.Label(root, text=\"Tkinterのテストです\")\n",
        "#表示する\n",
        "label.grid()\n",
        "\n",
        "#ボタンを作る\n",
        "button = tk.Button(root, text=\"ボタン\", command= lambda : pushed(button))\n",
        "#表示\n",
        "button.grid()\n",
        "\n",
        "#メインループ\n",
        "root.mainloop()"
      ],
      "metadata": {
        "colab": {
          "base_uri": "https://localhost:8080/",
          "height": 374
        },
        "id": "J8imP1uKbv3V",
        "outputId": "ed9f8c41-b2d2-4ef3-e19d-3c763e1d4927"
      },
      "execution_count": null,
      "outputs": [
        {
          "output_type": "error",
          "ename": "TclError",
          "evalue": "ignored",
          "traceback": [
            "\u001b[0;31m---------------------------------------------------------------------------\u001b[0m",
            "\u001b[0;31mTclError\u001b[0m                                  Traceback (most recent call last)",
            "\u001b[0;32m<ipython-input-204-e14815170ac3>\u001b[0m in \u001b[0;36m<module>\u001b[0;34m\u001b[0m\n\u001b[1;32m      7\u001b[0m \u001b[0;34m\u001b[0m\u001b[0m\n\u001b[1;32m      8\u001b[0m \u001b[0;31m#rootウィンドウを作成\u001b[0m\u001b[0;34m\u001b[0m\u001b[0;34m\u001b[0m\u001b[0;34m\u001b[0m\u001b[0m\n\u001b[0;32m----> 9\u001b[0;31m \u001b[0mroot\u001b[0m \u001b[0;34m=\u001b[0m \u001b[0mtk\u001b[0m\u001b[0;34m.\u001b[0m\u001b[0mTk\u001b[0m\u001b[0;34m(\u001b[0m\u001b[0;34m)\u001b[0m\u001b[0;34m\u001b[0m\u001b[0;34m\u001b[0m\u001b[0m\n\u001b[0m\u001b[1;32m     10\u001b[0m \u001b[0;31m#rootウィンドウのタイトルを変える\u001b[0m\u001b[0;34m\u001b[0m\u001b[0;34m\u001b[0m\u001b[0;34m\u001b[0m\u001b[0m\n\u001b[1;32m     11\u001b[0m \u001b[0mroot\u001b[0m\u001b[0;34m.\u001b[0m\u001b[0mtitle\u001b[0m\u001b[0;34m(\u001b[0m\u001b[0;34m\"Tkinterテスト\"\u001b[0m\u001b[0;34m)\u001b[0m\u001b[0;34m\u001b[0m\u001b[0;34m\u001b[0m\u001b[0m\n",
            "\u001b[0;32m/usr/lib/python3.7/tkinter/__init__.py\u001b[0m in \u001b[0;36m__init__\u001b[0;34m(self, screenName, baseName, className, useTk, sync, use)\u001b[0m\n\u001b[1;32m   2021\u001b[0m                 \u001b[0mbaseName\u001b[0m \u001b[0;34m=\u001b[0m \u001b[0mbaseName\u001b[0m \u001b[0;34m+\u001b[0m \u001b[0mext\u001b[0m\u001b[0;34m\u001b[0m\u001b[0;34m\u001b[0m\u001b[0m\n\u001b[1;32m   2022\u001b[0m         \u001b[0minteractive\u001b[0m \u001b[0;34m=\u001b[0m \u001b[0;36m0\u001b[0m\u001b[0;34m\u001b[0m\u001b[0;34m\u001b[0m\u001b[0m\n\u001b[0;32m-> 2023\u001b[0;31m         \u001b[0mself\u001b[0m\u001b[0;34m.\u001b[0m\u001b[0mtk\u001b[0m \u001b[0;34m=\u001b[0m \u001b[0m_tkinter\u001b[0m\u001b[0;34m.\u001b[0m\u001b[0mcreate\u001b[0m\u001b[0;34m(\u001b[0m\u001b[0mscreenName\u001b[0m\u001b[0;34m,\u001b[0m \u001b[0mbaseName\u001b[0m\u001b[0;34m,\u001b[0m \u001b[0mclassName\u001b[0m\u001b[0;34m,\u001b[0m \u001b[0minteractive\u001b[0m\u001b[0;34m,\u001b[0m \u001b[0mwantobjects\u001b[0m\u001b[0;34m,\u001b[0m \u001b[0museTk\u001b[0m\u001b[0;34m,\u001b[0m \u001b[0msync\u001b[0m\u001b[0;34m,\u001b[0m \u001b[0muse\u001b[0m\u001b[0;34m)\u001b[0m\u001b[0;34m\u001b[0m\u001b[0;34m\u001b[0m\u001b[0m\n\u001b[0m\u001b[1;32m   2024\u001b[0m         \u001b[0;32mif\u001b[0m \u001b[0museTk\u001b[0m\u001b[0;34m:\u001b[0m\u001b[0;34m\u001b[0m\u001b[0;34m\u001b[0m\u001b[0m\n\u001b[1;32m   2025\u001b[0m             \u001b[0mself\u001b[0m\u001b[0;34m.\u001b[0m\u001b[0m_loadtk\u001b[0m\u001b[0;34m(\u001b[0m\u001b[0;34m)\u001b[0m\u001b[0;34m\u001b[0m\u001b[0;34m\u001b[0m\u001b[0m\n",
            "\u001b[0;31mTclError\u001b[0m: no display name and no $DISPLAY environment variable"
          ]
        }
      ]
    }
  ]
}